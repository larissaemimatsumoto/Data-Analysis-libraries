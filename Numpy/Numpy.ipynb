{
 "cells": [
  {
   "cell_type": "code",
   "execution_count": 1,
   "id": "73e48c3e",
   "metadata": {},
   "outputs": [],
   "source": [
    "import numpy as np"
   ]
  },
  {
   "cell_type": "code",
   "execution_count": 2,
   "id": "0aa562f3",
   "metadata": {},
   "outputs": [
    {
     "name": "stdout",
     "output_type": "stream",
     "text": [
      "[[1 3 5 7 9]\n",
      " [2 4 6 8 0]]\n",
      "<class 'numpy.ndarray'>\n"
     ]
    }
   ],
   "source": [
    "a = np.array([[1,3,5,7,9],[2,4,6,8,0]])\n",
    "print(a)\n",
    "print(type(a))"
   ]
  },
  {
   "cell_type": "code",
   "execution_count": 3,
   "id": "7b60a41e",
   "metadata": {},
   "outputs": [
    {
     "name": "stdout",
     "output_type": "stream",
     "text": [
      "[[[0. 0. 0.]\n",
      "  [0. 0. 0.]\n",
      "  [0. 0. 0.]]\n",
      "\n",
      " [[0. 0. 0.]\n",
      "  [0. 0. 0.]\n",
      "  [0. 0. 0.]]]\n"
     ]
    }
   ],
   "source": [
    "array_zeros = np.zeros(shape = (2,3,3))\n",
    "print(array_zeros)"
   ]
  },
  {
   "cell_type": "code",
   "execution_count": 4,
   "id": "b51bbcc1",
   "metadata": {},
   "outputs": [
    {
     "name": "stdout",
     "output_type": "stream",
     "text": [
      "[[[1. 1. 1.]\n",
      "  [1. 1. 1.]\n",
      "  [1. 1. 1.]]\n",
      "\n",
      " [[1. 1. 1.]\n",
      "  [1. 1. 1.]\n",
      "  [1. 1. 1.]]]\n"
     ]
    }
   ],
   "source": [
    "array_ones = np.ones((2,3,3))\n",
    "print(array_ones)"
   ]
  },
  {
   "cell_type": "code",
   "execution_count": 11,
   "id": "eba2fa90",
   "metadata": {
    "scrolled": true
   },
   "outputs": [
    {
     "name": "stdout",
     "output_type": "stream",
     "text": [
      "[[1.06914059e-311 2.47032823e-322 0.00000000e+000 0.00000000e+000]\n",
      " [0.00000000e+000 5.74084271e+169 4.71483903e-090 6.23124106e-038]\n",
      " [1.56154473e+184 1.22199448e+161 3.99910963e+252 6.76174197e+170]]\n"
     ]
    }
   ],
   "source": [
    "array_vazio = np.empty((3,4))\n",
    "print(array_vazio)"
   ]
  },
  {
   "cell_type": "code",
   "execution_count": 27,
   "id": "00803360",
   "metadata": {},
   "outputs": [
    {
     "name": "stdout",
     "output_type": "stream",
     "text": [
      "[ 0  1  2  3  4  5  6  7  8  9 10 11 12 13 14]\n"
     ]
    }
   ],
   "source": [
    "array_sequencial = np.arange(15)\n",
    "print(array_sequencial)"
   ]
  },
  {
   "cell_type": "code",
   "execution_count": 13,
   "id": "aa07505d",
   "metadata": {},
   "outputs": [
    {
     "name": "stdout",
     "output_type": "stream",
     "text": [
      "[ 50  80 110 140 170]\n"
     ]
    }
   ],
   "source": [
    "array_start = np.arange(50, 200, 30)\n",
    "print(array_start)"
   ]
  },
  {
   "cell_type": "code",
   "execution_count": 30,
   "id": "063faed8",
   "metadata": {},
   "outputs": [
    {
     "name": "stdout",
     "output_type": "stream",
     "text": [
      "(array([  0.        ,   5.26315789,  10.52631579,  15.78947368,\n",
      "        21.05263158,  26.31578947,  31.57894737,  36.84210526,\n",
      "        42.10526316,  47.36842105,  52.63157895,  57.89473684,\n",
      "        63.15789474,  68.42105263,  73.68421053,  78.94736842,\n",
      "        84.21052632,  89.47368421,  94.73684211, 100.        ]), 5.2631578947368425)\n"
     ]
    }
   ],
   "source": [
    "array_linear = np.linspace(0, 100, num = 20, endpoint = True, retstep = True)\n",
    "print(array_linear)"
   ]
  },
  {
   "cell_type": "code",
   "execution_count": 33,
   "id": "afe9418e",
   "metadata": {},
   "outputs": [
    {
     "name": "stdout",
     "output_type": "stream",
     "text": [
      "(2, 3, 3)\n",
      "18\n",
      "3\n"
     ]
    }
   ],
   "source": [
    "print(array_ones.shape)\n",
    "print(array_ones.size)\n",
    "print(array_ones.ndim)"
   ]
  },
  {
   "cell_type": "code",
   "execution_count": 42,
   "id": "c2a16a30",
   "metadata": {},
   "outputs": [
    {
     "name": "stdout",
     "output_type": "stream",
     "text": [
      "2\n",
      "(3, 3)\n"
     ]
    }
   ],
   "source": [
    "array = np.array([[1,2,3],[4,5,6],[7,8,9]])\n",
    "print(array.ndim)\n",
    "print(array.shape)"
   ]
  },
  {
   "cell_type": "code",
   "execution_count": 43,
   "id": "dd3dead9",
   "metadata": {},
   "outputs": [
    {
     "name": "stdout",
     "output_type": "stream",
     "text": [
      "3\n",
      "(1, 3, 3)\n",
      "[[[1 2 3]\n",
      "  [4 5 6]\n",
      "  [7 8 9]]]\n"
     ]
    }
   ],
   "source": [
    "array2 = array[np.newaxis,:]\n",
    "print(array2.ndim)\n",
    "print(array2.shape)\n",
    "print(array2)"
   ]
  },
  {
   "cell_type": "code",
   "execution_count": 44,
   "id": "fda74f51",
   "metadata": {},
   "outputs": [
    {
     "name": "stdout",
     "output_type": "stream",
     "text": [
      "3\n",
      "(3, 1, 3)\n",
      "[[[1 2 3]]\n",
      "\n",
      " [[4 5 6]]\n",
      "\n",
      " [[7 8 9]]]\n"
     ]
    }
   ],
   "source": [
    "array3 = array[:,np.newaxis]\n",
    "print(array3.ndim)\n",
    "print(array3.shape)\n",
    "print(array3)"
   ]
  },
  {
   "cell_type": "code",
   "execution_count": 50,
   "id": "0c32b9ca",
   "metadata": {},
   "outputs": [
    {
     "name": "stdout",
     "output_type": "stream",
     "text": [
      "5\n"
     ]
    }
   ],
   "source": [
    "print(array3[1][0][1])"
   ]
  },
  {
   "cell_type": "code",
   "execution_count": 53,
   "id": "3991d448",
   "metadata": {},
   "outputs": [
    {
     "name": "stdout",
     "output_type": "stream",
     "text": [
      "9\n"
     ]
    }
   ],
   "source": [
    "print(array3[2][0][2])"
   ]
  },
  {
   "cell_type": "code",
   "execution_count": 59,
   "id": "3e663017",
   "metadata": {},
   "outputs": [
    {
     "name": "stdout",
     "output_type": "stream",
     "text": [
      "[1 2 3 4 5 6]\n",
      "[4 5 6 7 8 9]\n",
      "[1 2 3 4 5 6 7 8 9]\n"
     ]
    }
   ],
   "source": [
    "array4 = np.array([1,2,3])\n",
    "array5 = np.array([4,5,6])\n",
    "array6 = np.array([7,8,9])\n",
    "\n",
    "conc_4_5 = np.concatenate((array4, array5))\n",
    "conc_5_6 = np.concatenate((array5, array6))\n",
    "conc_4_5_6 = np.concatenate((array4, array5, array6))\n",
    "\n",
    "print(conc_4_5)\n",
    "print(conc_5_6)\n",
    "print(conc_4_5_6)"
   ]
  },
  {
   "cell_type": "code",
   "execution_count": 60,
   "id": "a2de9953",
   "metadata": {
    "scrolled": true
   },
   "outputs": [
    {
     "name": "stdout",
     "output_type": "stream",
     "text": [
      "[3 4 5 6 7 8 9]\n"
     ]
    }
   ],
   "source": [
    "maior_2 = conc_4_5_6[conc_4_5_6>2]\n",
    "print(maior_2)"
   ]
  },
  {
   "cell_type": "code",
   "execution_count": 67,
   "id": "7378250c",
   "metadata": {},
   "outputs": [
    {
     "name": "stdout",
     "output_type": "stream",
     "text": [
      "[3 6 9]\n"
     ]
    }
   ],
   "source": [
    "resto_zero = conc_4_5_6[conc_4_5_6%3==0]\n",
    "print(resto_zero)"
   ]
  },
  {
   "cell_type": "code",
   "execution_count": 69,
   "id": "c218ab60",
   "metadata": {},
   "outputs": [
    {
     "name": "stdout",
     "output_type": "stream",
     "text": [
      "45\n",
      "9\n",
      "1\n",
      "5.0\n"
     ]
    }
   ],
   "source": [
    "print(conc_4_5_6.sum())\n",
    "print(conc_4_5_6.max())\n",
    "print(conc_4_5_6.min())\n",
    "print(conc_4_5_6.mean())"
   ]
  },
  {
   "cell_type": "code",
   "execution_count": 70,
   "id": "1a05c5e1",
   "metadata": {},
   "outputs": [],
   "source": [
    "from numpy.random import default_rng"
   ]
  },
  {
   "cell_type": "code",
   "execution_count": 75,
   "id": "e358b7ce",
   "metadata": {},
   "outputs": [
    {
     "name": "stdout",
     "output_type": "stream",
     "text": [
      "[[[ 3  8 13 12 16]\n",
      "  [11  5 19  3  8]\n",
      "  [17  4  2  2  1]]\n",
      "\n",
      " [[19  7 16 14 11]\n",
      "  [16  9 18  7 17]\n",
      "  [15  4 18 15 19]]]\n"
     ]
    }
   ],
   "source": [
    "rng = default_rng()\n",
    "random = rng.integers(20, size = (2,3,5))\n",
    "print(random)"
   ]
  },
  {
   "cell_type": "code",
   "execution_count": 81,
   "id": "3aee37c8",
   "metadata": {},
   "outputs": [
    {
     "name": "stdout",
     "output_type": "stream",
     "text": [
      "[ 0  1  2  3  4  5  6  7  8  9 10 11 12 13 14 15 16 17 18 19]\n",
      "<class 'numpy.ndarray'>\n",
      "[0, 1, 2, 3, 4, 5, 6, 7, 8, 9, 10, 11, 12, 13, 14, 15, 16, 17, 18, 19]\n",
      "<class 'list'>\n"
     ]
    }
   ],
   "source": [
    "array7 = np.arange(0,20)\n",
    "print(array7)\n",
    "print(type(array7))\n",
    "lista_array7 = [0, 1, 2, 3, 4, 5, 6, 7, 8, 9, 10, 11, 12, 13, 14, 15, 16, 17, 18, 19]\n",
    "print(lista_array7)\n",
    "print(type(lista_array7))"
   ]
  },
  {
   "cell_type": "code",
   "execution_count": 83,
   "id": "8ee50194",
   "metadata": {},
   "outputs": [],
   "source": [
    "from time import process_time"
   ]
  },
  {
   "cell_type": "code",
   "execution_count": 87,
   "id": "ef116aff",
   "metadata": {},
   "outputs": [
    {
     "ename": "TypeError",
     "evalue": "can't multiply sequence by non-int of type 'list'",
     "output_type": "error",
     "traceback": [
      "\u001b[1;31m---------------------------------------------------------------------------\u001b[0m",
      "\u001b[1;31mTypeError\u001b[0m                                 Traceback (most recent call last)",
      "\u001b[1;32m<ipython-input-87-a8a40b93832e>\u001b[0m in \u001b[0;36m<module>\u001b[1;34m\u001b[0m\n\u001b[0;32m      2\u001b[0m \u001b[0mlista_array2\u001b[0m \u001b[1;33m=\u001b[0m \u001b[0mlist\u001b[0m\u001b[1;33m(\u001b[0m\u001b[0mrng\u001b[0m\u001b[1;33m.\u001b[0m\u001b[0mintegers\u001b[0m\u001b[1;33m(\u001b[0m\u001b[1;36m10\u001b[0m\u001b[1;33m,\u001b[0m \u001b[1;36m100\u001b[0m\u001b[1;33m,\u001b[0m \u001b[1;36m100\u001b[0m\u001b[1;33m)\u001b[0m\u001b[1;33m)\u001b[0m\u001b[1;33m\u001b[0m\u001b[1;33m\u001b[0m\u001b[0m\n\u001b[0;32m      3\u001b[0m \u001b[0marray3\u001b[0m \u001b[1;33m=\u001b[0m \u001b[1;33m[\u001b[0m\u001b[1;33m]\u001b[0m\u001b[1;33m\u001b[0m\u001b[1;33m\u001b[0m\u001b[0m\n\u001b[1;32m----> 4\u001b[1;33m \u001b[0marray3\u001b[0m \u001b[1;33m=\u001b[0m \u001b[0mlista_array\u001b[0m\u001b[1;33m*\u001b[0m\u001b[0mlista_array2\u001b[0m\u001b[1;33m\u001b[0m\u001b[1;33m\u001b[0m\u001b[0m\n\u001b[0m\u001b[0;32m      5\u001b[0m \u001b[0mprint\u001b[0m\u001b[1;33m(\u001b[0m\u001b[0mlista_array\u001b[0m\u001b[1;33m)\u001b[0m\u001b[1;33m\u001b[0m\u001b[1;33m\u001b[0m\u001b[0m\n\u001b[0;32m      6\u001b[0m \u001b[0mprint\u001b[0m\u001b[1;33m(\u001b[0m\u001b[0marray3\u001b[0m\u001b[1;33m)\u001b[0m\u001b[1;33m\u001b[0m\u001b[1;33m\u001b[0m\u001b[0m\n",
      "\u001b[1;31mTypeError\u001b[0m: can't multiply sequence by non-int of type 'list'"
     ]
    }
   ],
   "source": [
    "lista_array = list(rng.integers(10, 100, 1000000))\n",
    "lista_array2 = list(rng.integers(10, 100, 1000000))\n",
    "array3 = []\n",
    "array3 = lista_array*lista_array2\n",
    "print(lista_array)\n",
    "print(array3)"
   ]
  },
  {
   "cell_type": "code",
   "execution_count": 99,
   "id": "5c5f3019",
   "metadata": {},
   "outputs": [
    {
     "name": "stdout",
     "output_type": "stream",
     "text": [
      "0.0\n"
     ]
    }
   ],
   "source": [
    "array3 = []\n",
    "t1 = process_time()\n",
    "for i in range(len(lista_array)):\n",
    "    array3.append(lista_array[i]*lista_array2[i])\n",
    "t2 = process_time()\n",
    "print(t2-t1)"
   ]
  },
  {
   "cell_type": "code",
   "execution_count": 100,
   "id": "5ffbf6cb",
   "metadata": {},
   "outputs": [
    {
     "name": "stdout",
     "output_type": "stream",
     "text": [
      "<class 'numpy.ndarray'>\n",
      "[ 640  429 3822 ... 2940  572 1364]\n",
      "0.015625\n"
     ]
    }
   ],
   "source": [
    "array = rng.integers(10, 100, 1000000)\n",
    "array2 = rng.integers(10, 100, 1000000)\n",
    "print(type(array))\n",
    "\n",
    "t1a = process_time()\n",
    "array3 = array*array2\n",
    "t2a = process_time()\n",
    "print(array3)\n",
    "print(t2a-t1a)"
   ]
  },
  {
   "cell_type": "code",
   "execution_count": null,
   "id": "f9984a64",
   "metadata": {},
   "outputs": [],
   "source": []
  }
 ],
 "metadata": {
  "kernelspec": {
   "display_name": "Python 3",
   "language": "python",
   "name": "python3"
  },
  "language_info": {
   "codemirror_mode": {
    "name": "ipython",
    "version": 3
   },
   "file_extension": ".py",
   "mimetype": "text/x-python",
   "name": "python",
   "nbconvert_exporter": "python",
   "pygments_lexer": "ipython3",
   "version": "3.8.8"
  }
 },
 "nbformat": 4,
 "nbformat_minor": 5
}
